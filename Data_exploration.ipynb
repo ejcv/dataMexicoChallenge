{
 "cells": [
  {
   "cell_type": "markdown",
   "metadata": {},
   "source": [
    "# Data México\n",
    "## Importar bibliotecas"
   ]
  },
  {
   "cell_type": "code",
   "execution_count": null,
   "metadata": {},
   "outputs": [],
   "source": [
    "import pandas as pd\n",
    "#import matplotlib.pyplot as plt\n",
    "import numpy as np\n",
    "import plotly.graph_objects as go\n",
    "import plotly.express as px\n",
    "import requests"
   ]
  },
  {
   "cell_type": "markdown",
   "metadata": {},
   "source": [
    "## Leemos el archivo JSON del mapa de México"
   ]
  },
  {
   "cell_type": "code",
   "execution_count": null,
   "metadata": {},
   "outputs": [],
   "source": [
    "url = 'https://raw.githubusercontent.com/angelnmara/geojson/master/mexicoHigh.json'\n",
    "Mx_mapa_estados = requests.get(url).json()"
   ]
  },
  {
   "cell_type": "code",
   "execution_count": null,
   "metadata": {},
   "outputs": [],
   "source": [
    "# Averiguamos la manera en la que están escritos los nombres de los estados\n",
    "states = []\n",
    "for i in range(32):\n",
    "    states.append(Mx_mapa_estados[\"features\"][i][\"properties\"][\"name\"])"
   ]
  },
  {
   "cell_type": "code",
   "execution_count": null,
   "metadata": {},
   "outputs": [],
   "source": [
    "# Organizamos la lista de estados por orden alfabético\n",
    "states.sort()\n",
    "states"
   ]
  },
  {
   "cell_type": "markdown",
   "metadata": {},
   "source": [
    "## Leemos los diferentes csv's"
   ]
  },
  {
   "cell_type": "markdown",
   "metadata": {},
   "source": [
    "### Reporte de mobilidad por estados de México - Google"
   ]
  },
  {
   "cell_type": "code",
   "execution_count": null,
   "metadata": {},
   "outputs": [],
   "source": [
    "mob_google = pd.read_csv(\"Databases/2020_MX_Region_Mobility_Report_Google.csv\")"
   ]
  },
  {
   "cell_type": "code",
   "execution_count": null,
   "metadata": {},
   "outputs": [],
   "source": [
    "mob_google.head(10)"
   ]
  },
  {
   "cell_type": "code",
   "execution_count": null,
   "metadata": {},
   "outputs": [],
   "source": [
    "# Checamos la manera en la que están escritos los estados y corroboramos con nuestro mapa. El \"nan\" hace referencia a el país entero\n",
    "mob_google[\"sub_region_1\"].unique()"
   ]
  },
  {
   "cell_type": "code",
   "execution_count": null,
   "metadata": {},
   "outputs": [],
   "source": [
    "# Reemplazamos los más obvios para luego comparar con la lista de estados del mapa\n",
    "mob_google = mob_google.replace([\"Mexico City\", \"State of Mexico\"], [\"Ciudad de México\", \"México\"])\n",
    "st_google = []\n",
    "for i in range(1,33):\n",
    "    st_google.append(mob_google[\"sub_region_1\"].unique()[i])\n",
    "st_google.sort()\n",
    "for i in range(len(st_google)):\n",
    "    print(st_google[i],states[i])\n",
    "    # Mas adelante corroborara si los acentos influyen"
   ]
  },
  {
   "cell_type": "code",
   "execution_count": null,
   "metadata": {},
   "outputs": [],
   "source": [
    "# Reemplazamos los nombres de los estados para que sean iguales a los del Mapa\n",
    "for i in range(len(st_google)):\n",
    "    mob_google = mob_google.replace(st_google[i], states[i])\n",
    "mob_google[\"sub_region_1\"].unique()"
   ]
  },
  {
   "cell_type": "code",
   "execution_count": null,
   "metadata": {},
   "outputs": [],
   "source": [
    "# Cambiamos los nombres de las columnas a español y eliminamos columnas innecesarias\n",
    "mob_google = mob_google.rename(columns= {'retail_and_recreation_percent_change_from_baseline': \"Comercios y lugares recreativos\",\n",
    "                            'grocery_and_pharmacy_percent_change_from_baseline': \"Farmacias y supermercados\",\n",
    "                            'parks_percent_change_from_baseline':\"Parques\",\n",
    "                            'transit_stations_percent_change_from_baseline':'Estaciones de tránsito',\n",
    "                            'workplaces_percent_change_from_baseline': \"Lugares de trabajo\",\n",
    "                            'residential_percent_change_from_baseline':\"Lugares residenciales\"})\n",
    "mob_google = mob_google.drop(columns=[\"sub_region_2\", \"metro_area\", \"iso_3166_2_code\", \"census_fips_code\",\"country_region_code\"])\n",
    "mob_google"
   ]
  },
  {
   "cell_type": "markdown",
   "metadata": {},
   "source": [
    "### Gráficas de movilidad durante la cuarentena para cada estado o país"
   ]
  },
  {
   "cell_type": "markdown",
   "metadata": {},
   "source": [
    "Como primer paso hay que definir cuándo empezó la cuarentena en México. Según https://www.gob.mx/cms/uploads/attachment/file/541687/Jornada_Nacional_de_Sana_Distancia.pdf empézó el 23 de Marzo del 2020. Entonces hay que agregar una columna que nos permita discernir entre movilidad pre y durante la cuarentena."
   ]
  },
  {
   "cell_type": "code",
   "execution_count": null,
   "metadata": {},
   "outputs": [],
   "source": [
    "# Creamos una función que nos permita asignar el valor Durante Cuarentena y Antes de la Cuarentena\n",
    "def cuarentena(fecha):\n",
    "    # Documentación:\n",
    "    # Evalúa la fecha de entrada y arroja si ésta ocurrió antes de la cuarentena o después  (23 de Marzo del 2020)\n",
    "    \n",
    "    # Argumentos:\n",
    "    # fecha = e.g. 2020-03-23\n",
    "    \n",
    "    f_cuarentena = \"2020-03-23\"\n",
    "    # Utilizamos un ciclo if para definir ambos casos\n",
    "    if fecha < f_cuarentena:\n",
    "        return \"Antes de la Cuarentena\"\n",
    "    else:\n",
    "        return \"Durante la Cuarentena\"\n",
    "    \n",
    "# Creamos la función que nos devuelva la gráfica\n",
    "def movilidad_google(df,estado):\n",
    "    # Documentación:\n",
    "    # Toma el datafram de movilidad de google procesado y devuelve una gráfica dependiendo del estado que se eligió\n",
    "    \n",
    "    # Argumentos:\n",
    "    # df = dataframe de movilidad de google procesado\n",
    "    # estado = Nombre del estado (str)\n",
    "    \n",
    "    df[\"Cuarentena\"] = df[\"date\"].apply(cuarentena)\n",
    "    if estado == \"País\":\n",
    "        df_estado = df[df[\"sub_region_1\"].isnull()]\n",
    "    else:\n",
    "        df_estado = df[df[\"sub_region_1\"] == estado]\n",
    "    \n",
    "    import datetime\n",
    "    df_estado[\"date\"] = pd.to_datetime(df_estado[\"date\"])\n",
    "    df_estado.set_index(\"date\",inplace=True)\n",
    "    \n",
    "    df_estado_2 = df_estado.resample(\"W\").agg(\"mean\")\n",
    "    \n",
    "    durante_la_cuarentena = df_estado[\"Cuarentena\"].where(df_estado[\"Cuarentena\"] == \"Durante la Cuarentena\").first_valid_index()\n",
    "    antes_de_la_cuarentena = df_estado[\"Cuarentena\"].where(df_estado[\"Cuarentena\"] == \"Antes de la Cuarentena\").first_valid_index()\n",
    "    mindate = df_estado.index.min()\n",
    "    maxdate = df_estado.index.max()\n",
    "    \n",
    "    fig = go.Figure()\n",
    "    fig.add_trace(go.Scatter(x=[durante_la_cuarentena],\n",
    "                             y=[39],\n",
    "                             text=[\"<b>Empieza la Cuarentena</b>\"],\n",
    "                             mode=\"text\"))\n",
    "    \n",
    "    l = df_estado_2.columns\n",
    "    colors = px.colors.qualitative.G10\n",
    "    \n",
    "    for i in range(len(l)):\n",
    "        fig.add_trace(go.Scatter(x=df_estado_2.index,\n",
    "                                 y=df_estado_2[l[i]],\n",
    "                                 mode=\"lines+markers\",\n",
    "                                 name=l[i],\n",
    "                                 marker_color=colors[i])\n",
    "                     )\n",
    "        \n",
    "        fig.update_layout(xaxis=dict(range=[mindate,maxdate]), template=\"plotly_white\")\n",
    "        \n",
    "        fig.update_layout(title=\"Cambios en la Movilidad de los Habitantes del estado de {} durante la Cuarentena\".format(estado),\n",
    "                          width=1400,\n",
    "                          height=600,\n",
    "                          legend_title=\"Movilidad\",\n",
    "                          shapes=[dict(type=\"line\",\n",
    "                                       x0=mindate,\n",
    "                                       y0=0,\n",
    "                                       x1=maxdate,\n",
    "                                       y1=0,\n",
    "                                       line_width=2,\n",
    "                                       line= dict(dash=\"dot\")),\n",
    "                                  dict(type=\"line\",\n",
    "                                       x0=durante_la_cuarentena,\n",
    "                                       y0=-100,\n",
    "                                       x1=durante_la_cuarentena,\n",
    "                                       y1=37,\n",
    "                                       line_width=2,\n",
    "                                       line= dict(dash=\"dot\"))\n",
    "                                 ]\n",
    "                         )\n",
    "    return fig.show()"
   ]
  },
  {
   "cell_type": "code",
   "execution_count": null,
   "metadata": {},
   "outputs": [],
   "source": [
    "vcm"
   ]
  },
  {
   "cell_type": "code",
   "execution_count": null,
   "metadata": {},
   "outputs": [],
   "source": [
    "md"
   ]
  },
  {
   "cell_type": "code",
   "execution_count": null,
   "metadata": {},
   "outputs": [],
   "source": [
    "def crime_lines(df, delito, estado):\n",
    "    fig = go.Figure()\n",
    "    for year in df[\"Año\"].unique():\n",
    "        fig.add_trace(go.Scatter(x=df[\"Mes\"], y = df[(df[\"Tipo de delito\"]==delito) & (df[\"Entidad\"]==estado) & (df[\"Año\"]==year)][\"Incidencia\"],mode=\"lines+markers\",name=str(year)))\n",
    "    fig.add_shape(type=\"line\",x0=\"Marzo\",x1=\"Marzo\",y0=0,y1=df[(df[\"Tipo de delito\"]==delito) & (df[\"Entidad\"]==estado)][\"Incidencia\"].max(), layer=\"below\", line=dict(width=5, dash=\"dot\"))\n",
    "    fig.add_shape(type=\"line\",x0=\"Abril\",x1=\"Abril\",y0=0,y1=df[(df[\"Tipo de delito\"]==delito) & (df[\"Entidad\"]==estado)][\"Incidencia\"].max(), layer=\"below\", line=dict(width=5, dash=\"dot\"))\n",
    "    fig.update_layout(title=\"{} en el estado de {} a través del tiempo\".format(delito, estado),template=\"plotly_white\")\n",
    "    \n",
    "\n",
    "    return fig.show()\n"
   ]
  },
  {
   "cell_type": "code",
   "execution_count": null,
   "metadata": {},
   "outputs": [],
   "source": [
    "for estate in [\"Baja California\", \"Guerrero\"]:\n",
    "    crime_lines(md, \"Hostigamiento sexual\", estate)"
   ]
  },
  {
   "cell_type": "code",
   "execution_count": null,
   "metadata": {},
   "outputs": [],
   "source": [
    "fig = go.Figure()\n",
    "for year in md[\"Año\"].unique():\n",
    "    fig.add_trace(go.Scatter(x=md[\"Mes\"], y = md[(md[\"Tipo de delito\"]==\"Violencia familiar\") & (md[\"Entidad\"]==\"Ciudad de México\") & (md[\"Año\"]==year)][\"Incidencia\"],mode=\"lines+markers\",name=str(year)))\n",
    "fig.add_shape(type=\"line\",x0=\"Marzo\",x1=\"Marzo\",y0=0,y1=md[(md[\"Tipo de delito\"]==\"Violencia familiar\") & (md[\"Entidad\"]==\"Ciudad de México\") & (md[\"Año\"]==year)][\"Incidencia\"].max(), layer=\"below\", line=dict(width=5, dash=\"dot\"))\n",
    "fig.add_shape(type=\"line\",x0=\"Abril\",x1=\"Abril\",y0=0,y1=md[(md[\"Tipo de delito\"]==\"Violencia familiar\") & (md[\"Entidad\"]==\"Ciudad de México\") & (md[\"Año\"]==year)][\"Incidencia\"].max(), layer=\"below\", line=dict(width=5, dash=\"dot\"))\n",
    "fig.update_layout(title=\"{} en {} a través del tiempo\".format(delito, estado),template=\"plotly_white\")\n",
    "#fig.add_trace(go.Scatter(x=[\"2020-04-8\"],y=[160], text=\"<b>Primer mes en</b>\", mode=\"text\", textfont_size=12))\n",
    "#fig.add_trace(go.Scatter(x=[\"2020-04-8\"],y=[150], text=\"<b>cuarentena</b>\", mode=\"text\", textfont_size=12))\n",
    "#fig.add_trace(go.Scatter(x=[\"2020-04-8\"],y=[140], text=\"23 de Marzo al\", mode=\"text\", textfont_size=10))\n",
    "#fig.add_trace(go.Scatter(x=[\"2020-04-8\"],y=[130], text=\"23 de Abril\", mode=\"text\", textfont_size=10))\n",
    "fig.show()"
   ]
  },
  {
   "cell_type": "code",
   "execution_count": null,
   "metadata": {},
   "outputs": [],
   "source": [
    "md[(md[\"Tipo de delito\"]==\"Violencia familiar\") & (md[\"Entidad\"]==\"Yucatán\") & (md[\"Año\"]==2018)]"
   ]
  },
  {
   "cell_type": "markdown",
   "metadata": {},
   "source": [
    "## Movilidad de México como país durante la Cuarentena"
   ]
  },
  {
   "cell_type": "code",
   "execution_count": null,
   "metadata": {},
   "outputs": [],
   "source": [
    "# Mobilidad del país de México durante la Cuarentena\n",
    "movilidad_google(mob_google, \"País\")"
   ]
  },
  {
   "cell_type": "markdown",
   "metadata": {},
   "source": [
    "## Buscamos los valores más altos y bajos en el lapso de marzo 22 a abril 22 de tiempo en sus casas"
   ]
  },
  {
   "cell_type": "code",
   "execution_count": null,
   "metadata": {},
   "outputs": [],
   "source": [
    "# Buscar los valores más altos entre el lapso de marzo 22 a abril 22 2020\n",
    "mob_google_lapso = mob_google.loc[(mob_google[\"date\"] >= \"2020-03-22\") & (mob_google[\"date\"] <= \"2020-04-22\")] # Delimitamos la fecha a un mes \n",
    "mas_alto = mob_google_lapso[\"Lugares residenciales\"].max() # Encontramos el valor más alto\n",
    "mas_bajo = mob_google_lapso[\"Lugares residenciales\"].min() # Encontramos el valor más bajo\n",
    "estados_mas_t_casa = mob_google_lapso.loc[mob_google_lapso[\"Lugares residenciales\"] >= mas_alto-2] # Buscamos los estados que cumplan con esta condición\n",
    "estados_menos_t_casa = mob_google_lapso.loc[mob_google_lapso[\"Lugares residenciales\"] <= mas_bajo+1] # Buscamos los estados que cumplan con esta condición\n",
    "estados_menos_t_casa"
   ]
  },
  {
   "cell_type": "markdown",
   "metadata": {},
   "source": [
    "#### Estados que permanecieron más tiempo en casa durante el primer mes de cuarentena"
   ]
  },
  {
   "cell_type": "code",
   "execution_count": null,
   "metadata": {},
   "outputs": [],
   "source": [
    "for estado in estados_mas_t_casa[\"sub_region_1\"].unique():\n",
    "    movilidad_google(mob_google, estado)"
   ]
  },
  {
   "cell_type": "markdown",
   "metadata": {},
   "source": [
    "#### Estados que permanecieron menos tiempo en casa durante el primer mes de cuarentena"
   ]
  },
  {
   "cell_type": "code",
   "execution_count": null,
   "metadata": {},
   "outputs": [],
   "source": [
    "for estado in estados_menos_t_casa[\"sub_region_1\"].unique():\n",
    "    movilidad_google(mob_google, estado)"
   ]
  },
  {
   "cell_type": "markdown",
   "metadata": {},
   "source": [
    "### Reporte de movilidad en México - Apple"
   ]
  },
  {
   "cell_type": "code",
   "execution_count": null,
   "metadata": {},
   "outputs": [],
   "source": [
    "mob_apple = pd.read_csv(\"Databases/apple_mobility_trends-2020-11-25.csv\")"
   ]
  },
  {
   "cell_type": "code",
   "execution_count": null,
   "metadata": {},
   "outputs": [],
   "source": [
    "mob_apple.head(10)"
   ]
  },
  {
   "cell_type": "code",
   "execution_count": null,
   "metadata": {},
   "outputs": [],
   "source": [
    "# Filtramos la tabla por los datos de México\n",
    "mx_mob_apple = mob_apple.loc[mob_apple['region'] == \"Mexico\"]\n",
    "mx_mob_apple"
   ]
  },
  {
   "cell_type": "code",
   "execution_count": null,
   "metadata": {},
   "outputs": [],
   "source": [
    "# Eliminamos columnas innecesarias y con NA\n",
    "mx_mob_apple = mx_mob_apple.drop(columns=[\"alternative_name\", \"sub-region\", \"country\"])\n",
    "mx_mob_apple = mx_mob_apple.dropna(axis=1) \n",
    "mx_mob_apple"
   ]
  },
  {
   "cell_type": "code",
   "execution_count": null,
   "metadata": {},
   "outputs": [],
   "source": [
    "# Traducimos a español el tipo de transporte\n",
    "mx_mob_apple = mx_mob_apple.replace([\"driving\",\"transit\",\"walking\"], [\"Automóvil Propio\", \"Transporte Público\", \"Caminando\"])\n",
    "mx_mob_apple"
   ]
  },
  {
   "cell_type": "code",
   "execution_count": null,
   "metadata": {},
   "outputs": [],
   "source": [
    "mx_mob_apple = mx_mob_apple.set_index(['geo_type', 'region', 'transportation_type']).stack().reset_index()\n",
    "mx_mob_apple"
   ]
  },
  {
   "cell_type": "code",
   "execution_count": null,
   "metadata": {},
   "outputs": [],
   "source": [
    "mx_mob_apple.columns = [\"Geo_type\", \"Region\", \"Tipo de transporte\", \"Fecha\", \"Datos\"]\n",
    "mx_mob_apple"
   ]
  },
  {
   "cell_type": "code",
   "execution_count": null,
   "metadata": {},
   "outputs": [],
   "source": [
    "mx_mob_apple[mx_mob_apple.isnull()]"
   ]
  },
  {
   "cell_type": "code",
   "execution_count": null,
   "metadata": {},
   "outputs": [],
   "source": [
    "mx_mob_apple.fillna(0)"
   ]
  },
  {
   "cell_type": "code",
   "execution_count": null,
   "metadata": {},
   "outputs": [],
   "source": [
    "fig = px.line(mx_mob_apple, x=\"Fecha\", y= \"Datos\", color=\"Tipo de transporte\", title=\"Reporte de movilidad en México\")\n",
    "\n",
    "fig.add_shape(type=\"line\",x0=\"2020-03-23\",x1=\"2020-03-23\",y0=0,y1=170, layer=\"below\", line=dict(width=1, dash=\"dot\"))\n",
    "fig.add_shape(type=\"line\",x0=\"2020-04-23\",x1=\"2020-04-23\",y0=0,y1=170, layer=\"below\", line=dict(width=1, dash=\"dot\"))\n",
    "fig.add_trace(go.Scatter(x=[\"2020-04-8\"],y=[160], text=\"<b>Primer mes en</b>\", mode=\"text\", textfont_size=12))\n",
    "fig.add_trace(go.Scatter(x=[\"2020-04-8\"],y=[150], text=\"<b>cuarentena</b>\", mode=\"text\", textfont_size=12))\n",
    "fig.add_trace(go.Scatter(x=[\"2020-04-8\"],y=[140], text=\"23 de Marzo al\", mode=\"text\", textfont_size=10))\n",
    "fig.add_trace(go.Scatter(x=[\"2020-04-8\"],y=[130], text=\"23 de Abril\", mode=\"text\", textfont_size=10))\n",
    "\n",
    "fig.show()"
   ]
  },
  {
   "cell_type": "markdown",
   "metadata": {},
   "source": [
    "### Reporte de Delitos por Municipio del 2015 al 2020 - México"
   ]
  },
  {
   "cell_type": "code",
   "execution_count": null,
   "metadata": {},
   "outputs": [],
   "source": [
    "md = pd.read_csv(\"Databases/Municipal-Delitos-2015-2020_oct2020.csv\", encoding=\"latin_1\")"
   ]
  },
  {
   "cell_type": "code",
   "execution_count": null,
   "metadata": {},
   "outputs": [],
   "source": [
    "md.head(10)"
   ]
  },
  {
   "cell_type": "code",
   "execution_count": null,
   "metadata": {},
   "outputs": [],
   "source": [
    "# Eliminamos columnas innecesarias\n",
    "md = md.drop(columns=[\"Cve. Municipio\", \"Municipio\", \"Bien jurídico afectado\", \"Subtipo de delito\", \"Modalidad\"])\n",
    "md"
   ]
  },
  {
   "cell_type": "code",
   "execution_count": null,
   "metadata": {},
   "outputs": [],
   "source": [
    "# Buscamos is hay NA\n",
    "md.isnull().values.any()"
   ]
  },
  {
   "cell_type": "code",
   "execution_count": null,
   "metadata": {},
   "outputs": [],
   "source": [
    "# Reemplazamos con NA con 0\n",
    "md = md.fillna(0)"
   ]
  },
  {
   "cell_type": "code",
   "execution_count": null,
   "metadata": {},
   "outputs": [],
   "source": [
    "# Verificamos si siguen habiendo NA\n",
    "md.isnull().values.any()"
   ]
  },
  {
   "cell_type": "code",
   "execution_count": null,
   "metadata": {},
   "outputs": [],
   "source": [
    "md"
   ]
  },
  {
   "cell_type": "code",
   "execution_count": null,
   "metadata": {},
   "outputs": [],
   "source": [
    "# Convertimos valores flot a int para que se parezcan a los demás\n",
    "md[\"Noviembre\"] = md[\"Noviembre\"].astype(int)\n",
    "md[\"Diciembre\"] = md[\"Diciembre\"].astype(int)\n",
    "md\n"
   ]
  },
  {
   "cell_type": "code",
   "execution_count": null,
   "metadata": {},
   "outputs": [],
   "source": [
    "# Sumamos los tipos de delitos iguales (hay muchos debido a que eliminamos los subdelitos)\n",
    "month_sum_dict = {\"Enero\":\"sum\",\"Febrero\":\"sum\",\"Marzo\":\"sum\",\"Abril\":\"sum\",\"Mayo\":\"sum\",\"Junio\":\"sum\",\"Julio\":\"sum\",\"Agosto\":\"sum\",\"Septiembre\":\"sum\",\"Octubre\":\"sum\",\"Noviembre\":\"sum\",\"Diciembre\":\"sum\"}\n",
    "md = md.groupby([\"Año\",\"Clave_Ent\",\"Entidad\",\"Tipo de delito\"], as_index=False).agg(month_sum_dict)\n",
    "md"
   ]
  },
  {
   "cell_type": "code",
   "execution_count": null,
   "metadata": {},
   "outputs": [],
   "source": [
    "md = md.set_index(['Año', 'Clave_Ent', 'Entidad', \"Tipo de delito\"]).stack().reset_index()\n",
    "md"
   ]
  },
  {
   "cell_type": "code",
   "execution_count": null,
   "metadata": {},
   "outputs": [],
   "source": [
    "# Verificamos los estados en md sean iguales a los del mapa\n",
    "md_st = []\n",
    "for state in md[\"Entidad\"].unique():\n",
    "    md_st.append(state)\n",
    "md_st.sort()\n",
    "for i in range(len(states)):\n",
    "    print(md_st[i],states[i])"
   ]
  },
  {
   "cell_type": "code",
   "execution_count": null,
   "metadata": {},
   "outputs": [],
   "source": [
    "# Reemplazamos los nombres de los estados para que sean iguales a los del Mapa\n",
    "for i in range(len(states)):\n",
    "    md = md.replace(md_st[i], states[i])\n",
    "md[\"Entidad\"].unique()"
   ]
  },
  {
   "cell_type": "code",
   "execution_count": null,
   "metadata": {},
   "outputs": [],
   "source": [
    "md"
   ]
  },
  {
   "cell_type": "code",
   "execution_count": null,
   "metadata": {},
   "outputs": [],
   "source": [
    "md.columns = [\"Año\",\"Clave_Ent\",\"Entidad\",\"Tipo de delito\",\"Mes\",\"Incidencia\"]"
   ]
  },
  {
   "cell_type": "code",
   "execution_count": null,
   "metadata": {},
   "outputs": [],
   "source": [
    "md"
   ]
  },
  {
   "cell_type": "code",
   "execution_count": null,
   "metadata": {},
   "outputs": [],
   "source": [
    "md[(md[\"Tipo de delito\"]==\"Homicidio\") & (md[\"Año\"]==2016) & (md[\"Mes\"]==\"Junio\")]"
   ]
  },
  {
   "cell_type": "code",
   "execution_count": null,
   "metadata": {},
   "outputs": [],
   "source": [
    "def pie_delitos(df, entidad, año, mes, crimenes):\n",
    "    fig = px.pie(df[df[\"Tipo de delito\"].isin(crimenes) & (df[\"Año\"]==año) & (df[\"Entidad\"]==entidad) & df[\"Mes\"].isin(mes)],\n",
    "                 values=\"Incidencia\", names=\"Tipo de delito\", hover_name=\"Mes\", title=\"Crímenes en {} en los meses de {} y {} del año {}\".format(entidad,mes[0],mes[1],año))\n",
    "    return fig.show()"
   ]
  },
  {
   "cell_type": "code",
   "execution_count": null,
   "metadata": {
    "jupyter": {
     "source_hidden": true
    }
   },
   "outputs": [],
   "source": [
    "for estado in estados_mas_t_casa[\"sub_region_1\"].unique():\n",
    "    pie_delitos(md, estado, 2020, [\"Marzo\",\"Abril\"], [\"Violencia familiar\", \"Abuso sexual\", \"Feminicidio\", \"Homicidio\",\"Violación simple\",\n",
    "                                               \"Acoso sexual\", \"Violación equiparada\", \"Aborto\", \"Hostigamiento sexual\", \"Incesto\",\n",
    "                                               \"Violencia de género en todas sus modalidades distinta a la violencia familiar\",\n",
    "                                               \"Otros delitos contra la familia\", \"Corrupción de menores\",\n",
    "                                               \"Otros delitos que atentan contra la libertad y la seguridad sexual\"])"
   ]
  },
  {
   "cell_type": "code",
   "execution_count": null,
   "metadata": {},
   "outputs": [],
   "source": [
    "delitos_im = [\"Violencia familiar\", \"Abuso sexual\", \"Feminicidio\", \"Homicidio\",\"Violación simple\",\n",
    "                                               \"Acoso sexual\", \"Violación equiparada\", \"Aborto\", \"Hostigamiento sexual\", \"Incesto\",\n",
    "                                               \"Violencia de género en todas sus modalidades distinta a la violencia familiar\",\n",
    "                                               \"Otros delitos contra la familia\", \"Corrupción de menores\",\n",
    "                                               \"Otros delitos que atentan contra la libertad y la seguridad sexual\"]"
   ]
  },
  {
   "cell_type": "code",
   "execution_count": null,
   "metadata": {},
   "outputs": [],
   "source": [
    "def mapa_delitos(df, delito, mes):\n",
    "    fig = px.choropleth(data_frame=df[(df[\"Tipo de delito\"]==delito) & (md[\"Mes\"]==mes)], \n",
    "                    geojson=Mx_mapa_estados, \n",
    "                    locations='Entidad',\n",
    "                    featureidkey='properties.name',  # ruta al campo del archivo GeoJSON con el que se hará la relación (nombre de los estados)\n",
    "                    color='Incidencia',\n",
    "                    animation_frame=\"Año\",\n",
    "                    color_continuous_scale=\"burg\",\n",
    "                    height=800,\n",
    "                    width=1200,\n",
    "                    title=\"{} en {} a través de los años\".format(delito, mes),\n",
    "                    range_color=(0,df[(df[\"Tipo de delito\"]==delito) & (md[\"Mes\"]==mes)][\"Incidencia\"].max())\n",
    "                    #scope=\"north america\"\n",
    "                   )\n",
    "    fig.update_geos(showcountries=True, showcoastlines=False, showland=True, fitbounds=\"locations\")\n",
    "\n",
    "    return fig.show()"
   ]
  },
  {
   "cell_type": "code",
   "execution_count": null,
   "metadata": {},
   "outputs": [],
   "source": [
    "for delito in delitos_im:\n",
    "    mapa_delitos(md, delito, \"Abril\")"
   ]
  },
  {
   "cell_type": "code",
   "execution_count": null,
   "metadata": {},
   "outputs": [],
   "source": [
    "# Filtrado de delitos\n",
    "md_delitos = md.loc[md[\"Tipo de delito\"].isin([\"Violencia familiar\", \"Abuso sexual\", \"Feminicidio\", \"Homicidio\",\"Violación simple\",\n",
    "                                               \"Acoso sexual\", \"Violación equiparada\", \"Aborto\", \"Hostigamiento sexual\", \"Incesto\",\n",
    "                                               \"Violencia de género en todas sus modalidades distinta a la violencia familiar\",\n",
    "                                               \"Otros delitos contra la familia\", \"Corrupción de menores\",\n",
    "                                               \"Otros delitos que atentan contra la libertad y la seguridad sexual\"])]\n",
    "md_delitos"
   ]
  },
  {
   "cell_type": "code",
   "execution_count": null,
   "metadata": {},
   "outputs": [],
   "source": [
    "fig = px.pie(md_delitos[(md_delitos[\"Año\"]==2019) & (md_delitos[\"Entidad\"]==\"Ciudad de México\") & (md_delitos[\"level_4\"]==\"Enero\")], values=0, names=\"Tipo de delito\", hover_name=\"Año\")\n",
    "fig.show()"
   ]
  },
  {
   "cell_type": "code",
   "execution_count": null,
   "metadata": {},
   "outputs": [],
   "source": [
    "# Renombramos las columnas\n",
    "md_delitos.columns = [\"Año\", \"Clave_Ent\", \"Entidad\", \"Tipo de delito\", \"Mes\", \"Incidencias\"]\n",
    "md_delitos[(md_delitos[\"Año\"]==2015) & (md_delitos[\"Entidad\"]==\"Yucatán\")]"
   ]
  },
  {
   "cell_type": "code",
   "execution_count": null,
   "metadata": {},
   "outputs": [],
   "source": [
    "def line_delitos(df, entidad, delito):\n",
    "    fig = px.line(df[(df[\"Tipo de delito\"]==delito) & (df[\"Entidad\"]==entidad)], x=\"Mes\", y=\"Incidencia\", animation_frame=\"Año\",\n",
    "                  title=\"{} a través de los años en el estado de {}\".format(delito,entidad), range_y=[0,df[(df[\"Tipo de delito\"]==delito) & (df[\"Entidad\"]==entidad)][\"Incidencia\"].max()])\n",
    "    return fig.show()"
   ]
  },
  {
   "cell_type": "code",
   "execution_count": null,
   "metadata": {},
   "outputs": [],
   "source": [
    "def bar_delitos_1(df, entidad, delito):\n",
    "    fig = px.bar(df[(df[\"Tipo de delito\"]==delito) & (df[\"Entidad\"]==entidad)], x=\"Año\", y=\"Incidencia\", color=\"Año\", facet_col=\"Mes\",facet_col_wrap=6, height=800, title=\"{} en el estado de {} a través del tiempo \".format(delito, entidad))\n",
    "    return fig.show()"
   ]
  },
  {
   "cell_type": "code",
   "execution_count": null,
   "metadata": {},
   "outputs": [],
   "source": [
    "bar_delitos_1(md, \"Ciudad de México\",\"Violencia familiar\")"
   ]
  },
  {
   "cell_type": "markdown",
   "metadata": {},
   "source": [
    "## Análisis de delitos a través del tiempo en los estados que permanecieron mas tiempo en casa"
   ]
  },
  {
   "cell_type": "code",
   "execution_count": null,
   "metadata": {},
   "outputs": [],
   "source": [
    "for estado in estados_mas_t_casa[\"sub_region_1\"].unique():\n",
    "    for delito in md_delitos[\"Tipo de delito\"].unique():\n",
    "        bar_delitos_1(md, estado, delito)"
   ]
  },
  {
   "cell_type": "markdown",
   "metadata": {},
   "source": [
    "## Análisis de delitos a través del tiempo en los estados que permanecieron menos tiempo en casa"
   ]
  },
  {
   "cell_type": "code",
   "execution_count": null,
   "metadata": {},
   "outputs": [],
   "source": [
    "for estado in estados_menos_t_casa[\"sub_region_1\"].unique():\n",
    "    for delito in md_delitos[\"Tipo de delito\"].unique():\n",
    "        bar_delitos_1(md, estado, delito)"
   ]
  },
  {
   "cell_type": "code",
   "execution_count": null,
   "metadata": {},
   "outputs": [],
   "source": [
    "# Definimos una función para hacer animaciones\n",
    "def delitos_estado(df,estado, mes):\n",
    "    # Documentación\n",
    "    # Toma un datafram, estado y año como input y devuelve una animación de los delitos que ocurrieron en el estado durante ese año\n",
    "    \n",
    "    # Argumentos\n",
    "    # df = dataframe preprocesado md_delitos\n",
    "    # estado = estado de méxico (str)\n",
    "    # año = un año (2015-2020) (int)\n",
    "    fig = px.bar(df[df[\"Mes\"].isin(mes) & (df[\"Entidad\"]==estado)], x=\"Incidencias\", y=\"Tipo de delito\",\n",
    "                 animation_frame=\"Año\", title=\"Delitos en el estado de {} entre {} y {}  a través de los años\".format(estado, mes[0],mes[1]),\n",
    "                 range_x=[0,df[(df[\"Mes\"]==mes[0]) & (df[\"Entidad\"]==estado)][\"Incidencias\"].max()+df[(df[\"Mes\"]==mes[1]) & (df[\"Entidad\"]==estado)][\"Incidencias\"].max()], color=\"Mes\",\n",
    "                 height=1000)\n",
    "                                                \n",
    "    return fig.show()"
   ]
  },
  {
   "cell_type": "code",
   "execution_count": null,
   "metadata": {},
   "outputs": [],
   "source": [
    "delitos_estado(md_delitos, \"México\", [\"Marzo\",\"Abril\"])"
   ]
  },
  {
   "cell_type": "code",
   "execution_count": null,
   "metadata": {},
   "outputs": [],
   "source": [
    "vcm = pd.read_csv(\"Databases/Info_delict_violencia_contra_la_mujer-2015_oct_2020.csv\", encoding=\"latin_1\")\n",
    "vcm"
   ]
  },
  {
   "cell_type": "code",
   "execution_count": null,
   "metadata": {},
   "outputs": [],
   "source": [
    "vcm = vcm.fillna(0)\n",
    "vcm"
   ]
  },
  {
   "cell_type": "code",
   "execution_count": null,
   "metadata": {},
   "outputs": [],
   "source": [
    "vcm = vcm.set_index(['Año', 'Mes', 'Feminicidios']).stack().reset_index()\n",
    "vcm"
   ]
  },
  {
   "cell_type": "code",
   "execution_count": null,
   "metadata": {},
   "outputs": [],
   "source": [
    "vcm.columns = [\"Año\", \"Mes\", \"Feminicidios\", \"Tipo de delito\", \"Incidencias\"]\n",
    "vcm"
   ]
  },
  {
   "cell_type": "code",
   "execution_count": null,
   "metadata": {},
   "outputs": [],
   "source": [
    "def bar_delitos(delito):\n",
    "    fig = px.bar(vcm[vcm[\"Tipo de delito\"]==delito], x=\"Año\", y=\"Incidencias\", color=\"Año\", facet_col=\"Mes\",facet_col_wrap=6, height=800, title=\"{} en México a través del tiempo \".format(delito))\n",
    "    return fig.show()"
   ]
  },
  {
   "cell_type": "code",
   "execution_count": null,
   "metadata": {},
   "outputs": [],
   "source": [
    "def crime_lines_2(df, delito):\n",
    "    fig = go.Figure()\n",
    "    for year in df[\"Año\"].unique():\n",
    "        fig.add_trace(go.Scatter(x=df[\"Mes\"].unique(), y = df[(df[\"Tipo de delito\"]==delito) & (df[\"Año\"]==year)][\"Incidencias\"],mode=\"lines+markers\",name=str(year)))\n",
    "    fig.add_shape(type=\"line\",x0=\"Marzo\",x1=\"Marzo\",y0=0,y1=df[(df[\"Tipo de delito\"]==delito)][\"Incidencias\"].max(), layer=\"below\", line=dict(width=5, dash=\"dot\"))\n",
    "    fig.add_shape(type=\"line\",x0=\"Abril\",x1=\"Abril\",y0=0,y1=df[(df[\"Tipo de delito\"]==delito)][\"Incidencias\"].max(), layer=\"below\", line=dict(width=5, dash=\"dot\"))\n",
    "    fig.update_layout(title=\"{} en México a través del tiempo\".format(delito),template=\"plotly_white\")\n",
    "    \n",
    "\n",
    "    return fig.show()"
   ]
  },
  {
   "cell_type": "code",
   "execution_count": null,
   "metadata": {},
   "outputs": [],
   "source": [
    "vcm[\"Mes\"]"
   ]
  },
  {
   "cell_type": "code",
   "execution_count": null,
   "metadata": {},
   "outputs": [],
   "source": [
    "fig = go.Figure()\n",
    "for year in vcm[\"Año\"].unique():\n",
    "    fig.add_trace(go.Scatter(x=vcm[\"Mes\"].unique(), y = vcm[(vcm[\"Tipo de delito\"]==\"Homicidio doloso\") & (vcm[\"Año\"]==year)][\"Incidencias\"]))\n",
    "fig.show()"
   ]
  },
  {
   "cell_type": "code",
   "execution_count": null,
   "metadata": {},
   "outputs": [],
   "source": [
    "for crime in vcm[\"Tipo de delito\"].unique():\n",
    "    crime_lines_2(vcm,crime)"
   ]
  },
  {
   "cell_type": "code",
   "execution_count": null,
   "metadata": {},
   "outputs": [],
   "source": [
    "fig = go.Figure(data=[go.Bar(name=vcm[vcm[\"Tipo de delito\"]==\"Homicidio doloso\"][\"Año\"], x=vcm[])])"
   ]
  },
  {
   "cell_type": "code",
   "execution_count": null,
   "metadata": {},
   "outputs": [],
   "source": [
    "def violencia_mujer(df, mes):\n",
    "    # Documentación\n",
    "    # Toma un datafram, estado y año como input y devuelve una animación de los delitos que ocurrieron en el estado durante ese año\n",
    "    \n",
    "    # Argumentos\n",
    "    # df = dataframe preprocesado md_delitos\n",
    "    # estado = estado de méxico (str)\n",
    "    # año = un año (2015-2020) (int)\n",
    "    fig = px.bar(df[(df[\"Mes\"]==mes)], x=\"Incidencias\", y=\"Tipo de delito\", animation_frame=\"Año\",\n",
    "                 title=\"Información sobre violencia contra las mujeres en México en el mes de {} a través de los años\".format(mes),\n",
    "                 range_x=[0,df[df[\"Mes\"]==mes][\"Incidencias\"].max()])\n",
    "                                                \n",
    "    return fig.show()"
   ]
  },
  {
   "cell_type": "code",
   "execution_count": null,
   "metadata": {},
   "outputs": [],
   "source": [
    "violencia_mujer(vcm, \"Marzo\")"
   ]
  },
  {
   "cell_type": "code",
   "execution_count": null,
   "metadata": {},
   "outputs": [],
   "source": [
    "violencia_mujer(vcm, \"Abril\")"
   ]
  },
  {
   "cell_type": "code",
   "execution_count": null,
   "metadata": {},
   "outputs": [],
   "source": [
    "def line_violencia(df, delito):\n",
    "    fig = px.line(df[df[\"Tipo de delito\"]==delito], x=\"Mes\", y=\"Incidencias\", color=\"Tipo de delito\", animation_frame=\"Año\",\n",
    "                  title=\"{} en México a través de los años\".format(delito),\n",
    "                  range_y=[0,df[df[\"Tipo de delito\"]==delito][\"Incidencias\"].max()])\n",
    "    return fig.show()"
   ]
  },
  {
   "cell_type": "code",
   "execution_count": null,
   "metadata": {},
   "outputs": [],
   "source": [
    "for delito in vcm[\"Tipo de delito\"].unique():\n",
    "    line_violencia(vcm, delito)"
   ]
  }
 ],
 "metadata": {
  "kernelspec": {
   "display_name": "Python 3",
   "language": "python",
   "name": "python3"
  },
  "language_info": {
   "codemirror_mode": {
    "name": "ipython",
    "version": 3
   },
   "file_extension": ".py",
   "mimetype": "text/x-python",
   "name": "python",
   "nbconvert_exporter": "python",
   "pygments_lexer": "ipython3",
   "version": "3.9.0"
  },
  "widgets": {
   "application/vnd.jupyter.widget-state+json": {
    "state": {},
    "version_major": 2,
    "version_minor": 0
   }
  }
 },
 "nbformat": 4,
 "nbformat_minor": 4
}
